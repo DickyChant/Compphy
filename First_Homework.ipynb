{
 "cells": [
  {
   "cell_type": "code",
   "execution_count": 1,
   "metadata": {},
   "outputs": [],
   "source": [
    "class vector:\n",
    "    N=0;\n",
    "    Vec=[];\n",
    "    def __init__(self,vec=None):\n",
    "        if vec==None or vec ==[]:\n",
    "            self.N=0\n",
    "            self.Vec=[]\n",
    "        else:\n",
    "            self.Vec=vec\n",
    "            self.N=len(vec)\n",
    "    def print_vec(self):\n",
    "        print(self.Vec)"
   ]
  },
  {
   "cell_type": "code",
   "execution_count": 154,
   "metadata": {},
   "outputs": [],
   "source": [
    "class square:\n",
    "    N=0;\n",
    "    Squ=[];\n",
    "    def __init__(self,n=0,squ=None):\n",
    "        if squ==None or squ ==[] :\n",
    "            self.N=0\n",
    "            self.Squ=[]\n",
    "        else:\n",
    "            self.N=n\n",
    "            self.Squ=squ\n",
    "    def print_squ(self):\n",
    "        for row in self.Squ:\n",
    "            print(row)\n",
    "    def transpose(self):\n",
    "        temp = [[self.Squ[j][i] for j in range(self.N)] for i in range(self.N)]\n",
    "        return square(self.N,temp)"
   ]
  },
  {
   "cell_type": "code",
   "execution_count": 3,
   "metadata": {},
   "outputs": [],
   "source": [
    "def matmul(m1,m2):\n",
    "    if m1.N!=m2.N:\n",
    "        print(\"Error\")\n",
    "        return -1\n",
    "    else:\n",
    "        tmp1 = []\n",
    "        for i in range(m1.N):\n",
    "            tmp2 = []\n",
    "            for j in range(m1.N):\n",
    "                tmp3 = 0\n",
    "                for k in range(m1.N):\n",
    "                    tmp3+=m1.Squ[i][k]*m2.Squ[k][j]\n",
    "                tmp2.append(tmp3)\n",
    "            tmp1.append(tmp2)\n",
    "        return square(m1.N,tmp1) "
   ]
  },
  {
   "cell_type": "code",
   "execution_count": 4,
   "metadata": {},
   "outputs": [],
   "source": [
    "def mvmul(mat,vec):\n",
    "    if mat.N!=vec.N:\n",
    "        print(\"Error\")\n",
    "        return -1\n",
    "    else:\n",
    "        tmp1 = []\n",
    "        for i in range(mat.N):\n",
    "            tmp2 = 0\n",
    "            for j in range(mat.N):\n",
    "                tmp2 += mat.Squ[i][j]*vec.Vec[j]\n",
    "            tmp1.append(tmp2)\n",
    "        return vector(tmp1)"
   ]
  },
  {
   "cell_type": "code",
   "execution_count": 5,
   "metadata": {},
   "outputs": [],
   "source": [
    "def Hilbert_mat(n):\n",
    "    mat = [[1/(i+j+1) for j in range(n)] for i in range(n)]\n",
    "    return square(n,mat)"
   ]
  },
  {
   "cell_type": "code",
   "execution_count": 124,
   "metadata": {},
   "outputs": [],
   "source": [
    "def GEM(mat,vec=None):\n",
    "    if vec != None and mat.N!=vec.N:\n",
    "        print(\"Error\")\n",
    "        return -1\n",
    "    if vec == None:\n",
    "        vec = vector([1 for i in range(mat.N)])\n",
    "    for i in range(mat.N):\n",
    "        \n",
    "        maxi = i\n",
    "        for j in range(mat.N-i):\n",
    "            if abs(mat.Squ[i+j][i])>abs(mat.Squ[maxi][i]):\n",
    "                maxi = j+i\n",
    "        if mat.Squ[maxi][i] == 0:\n",
    "            return -1\n",
    "        temp = mat.Squ[maxi]\n",
    "        mat.Squ[maxi] = mat.Squ[i]\n",
    "        mat.Squ[i] = temp\n",
    "        temp = vec.Vec[maxi]\n",
    "        vec.Vec[maxi] = vec.Vec[i]\n",
    "        vec.Vec[i] = temp\n",
    "        \n",
    "        temp = -1.0/mat.Squ[i][i]\n",
    "        for j in range(mat.N-i-1):\n",
    "            l = temp*mat.Squ[i+j+1][i]\n",
    "            for k in range(mat.N-i):\n",
    "                mat.Squ[i+j+1][i+k] += l*mat.Squ[i][i+k]\n",
    "            vec.Vec[i+j+1] += l*vec.Vec[i]\n",
    "            \n",
    "    return mat,vec"
   ]
  },
  {
   "cell_type": "code",
   "execution_count": 64,
   "metadata": {},
   "outputs": [],
   "source": [
    "def Cholesky(mat):\n",
    "    temp = [[0 for i in range(mat.N)] for j in range(mat.N)]\n",
    "    for i in range(mat.N):\n",
    "        if i == 0:\n",
    "            temp[0][0] = mat.Squ[0][0]**(1/2)\n",
    "            continue\n",
    "        for j in range(i):\n",
    "            temp[i][j] = mat.Squ[i][j]\n",
    "            for k in range(j):\n",
    "                temp[i][j] -= temp[i][k]*temp[j][k]\n",
    "            temp[i][j]/=temp[j][j]\n",
    "        temp[i][i] = mat.Squ[i][i]\n",
    "        for j in range(i):\n",
    "            temp[i][i] -= temp[i][j]**2\n",
    "        temp[i][i] = temp[i][i]**(1/2)\n",
    "        \n",
    "    return square(mat.N,temp)"
   ]
  },
  {
   "cell_type": "code",
   "execution_count": 130,
   "metadata": {},
   "outputs": [],
   "source": [
    "def upper_tri_solver(mat,vec=None):\n",
    "    if mat.N!=vec.N and vec != None:\n",
    "        print(\"Error\")\n",
    "        return -1\n",
    "    if vec == None:\n",
    "        vec = vector([1 for i in range(mat.N)])\n",
    "    \n",
    "    temp_vec = []\n",
    "    for i in range(mat.N):\n",
    "        if mat.Squ[i][i] == 0:\n",
    "            print(\"Cannot Solve!\")\n",
    "            return -1\n",
    "        temp = vec.Vec[mat.N-1-i]\n",
    "        for k in range(i):\n",
    "            temp -= mat.Squ[mat.N-1-i][mat.N-1-k]*temp_vec[k]\n",
    "        temp /= mat.Squ[mat.N-1-i][mat.N-1-i]\n",
    "        temp_vec.append(temp)\n",
    "    temp_vec.reverse()\n",
    "    return vector(temp_vec)\n",
    "    "
   ]
  },
  {
   "cell_type": "code",
   "execution_count": 148,
   "metadata": {},
   "outputs": [],
   "source": [
    "def lower_tri_solver(mat,vec=None):\n",
    "    if mat.N!=vec.N and vec != None:\n",
    "        print(\"Error\")\n",
    "        return -1\n",
    "    if vec == None:\n",
    "        vec = vector([1 for i in range(mat.N)])\n",
    "    \n",
    "    temp_vec = []\n",
    "    for i in range(mat.N):\n",
    "        if mat.Squ[i][i] == 0:\n",
    "            print(\"Cannot Solve!\")\n",
    "            return -1\n",
    "        temp = vec.Vec[i]\n",
    "        for k in range(i):\n",
    "            temp -= mat.Squ[i][k]*temp_vec[k]\n",
    "        temp /= mat.Squ[i][i]\n",
    "        temp_vec.append(temp)\n",
    "    return vector(temp_vec)\n",
    "    "
   ]
  },
  {
   "cell_type": "code",
   "execution_count": 156,
   "metadata": {},
   "outputs": [],
   "source": [
    "n = 3"
   ]
  },
  {
   "cell_type": "code",
   "execution_count": 157,
   "metadata": {},
   "outputs": [
    {
     "name": "stdout",
     "output_type": "stream",
     "text": [
      "[3.0000000000000195, -24.000000000000092, 30.00000000000008]\n"
     ]
    }
   ],
   "source": [
    "#use GEM\n",
    "\n",
    "m_GEM = Hilbert_mat(n)\n",
    "v_GEM = vector([1 for i in range(n)])\n",
    "\n",
    "m_,v_ = GEM(mat=m_GEM,vec=v_GEM)\n",
    "\n",
    "ans_GEM = upper_tri_solver(m_,v_)\n",
    "\n",
    "ans_GEM.print_vec()"
   ]
  },
  {
   "cell_type": "code",
   "execution_count": 160,
   "metadata": {},
   "outputs": [
    {
     "name": "stdout",
     "output_type": "stream",
     "text": [
      "[3.000000000000007, -24.00000000000003, 30.00000000000002]\n"
     ]
    }
   ],
   "source": [
    "#use Cholesky\n",
    "\n",
    "m_Cho = Hilbert_mat(n)\n",
    "v_Cho = vector([1 for i in range(n)])\n",
    "\n",
    "h = Cholesky(m_Cho)\n",
    "\n",
    "h_dag = h.transpose()\n",
    "\n",
    "ans_tmp = lower_tri_solver(h,v_Cho)\n",
    "\n",
    "ans_Cho = upper_tri_solver(h_dag,ans_tmp)\n",
    "\n",
    "ans_Cho.print_vec()"
   ]
  },
  {
   "cell_type": "code",
   "execution_count": 198,
   "metadata": {},
   "outputs": [],
   "source": [
    "def sqr_newton(s,n=10):\n",
    "    x = s;\n",
    "    for i in range(n):\n",
    "        x = x/2+s/2/x\n",
    "        \n",
    "    return x"
   ]
  },
  {
   "cell_type": "code",
   "execution_count": 199,
   "metadata": {},
   "outputs": [
    {
     "name": "stdout",
     "output_type": "stream",
     "text": [
      "10.0\n"
     ]
    }
   ],
   "source": [
    "print(sqr_newton(100))"
   ]
  },
  {
   "cell_type": "code",
   "execution_count": 200,
   "metadata": {},
   "outputs": [
    {
     "data": {
      "text/plain": [
       "2.23606797749979"
      ]
     },
     "execution_count": 200,
     "metadata": {},
     "output_type": "execute_result"
    }
   ],
   "source": [
    "sqr_newton(s=5)"
   ]
  },
  {
   "cell_type": "code",
   "execution_count": 201,
   "metadata": {},
   "outputs": [
    {
     "data": {
      "text/plain": [
       "5.000000000000843"
      ]
     },
     "execution_count": 201,
     "metadata": {},
     "output_type": "execute_result"
    }
   ],
   "source": [
    "2.236067977499978**2"
   ]
  },
  {
   "cell_type": "code",
   "execution_count": 202,
   "metadata": {},
   "outputs": [
    {
     "name": "stdout",
     "output_type": "stream",
     "text": [
      "totally cost 0.0002300739288330078\n"
     ]
    }
   ],
   "source": [
    "import time\n",
    "\n",
    "time_start=time.time()\n",
    "for i in range(100):\n",
    "    sqr_newton(i+1)\n",
    "time_end=time.time()\n",
    "print('totally cost',time_end-time_start)"
   ]
  },
  {
   "cell_type": "code",
   "execution_count": 203,
   "metadata": {},
   "outputs": [
    {
     "name": "stdout",
     "output_type": "stream",
     "text": [
      "totally cost 7.033348083496094e-05\n"
     ]
    }
   ],
   "source": [
    "import time\n",
    "\n",
    "time_start=time.time()\n",
    "for i in range(100):\n",
    "    (i+1)**(1/2)\n",
    "time_end=time.time()\n",
    "print('totally cost',time_end-time_start)"
   ]
  },
  {
   "cell_type": "code",
   "execution_count": null,
   "metadata": {},
   "outputs": [],
   "source": []
  }
 ],
 "metadata": {
  "hide_input": false,
  "kernelspec": {
   "display_name": "Python 3",
   "language": "python",
   "name": "python3"
  },
  "language_info": {
   "codemirror_mode": {
    "name": "ipython",
    "version": 3
   },
   "file_extension": ".py",
   "mimetype": "text/x-python",
   "name": "python",
   "nbconvert_exporter": "python",
   "pygments_lexer": "ipython3",
   "version": "3.6.5"
  },
  "latex_envs": {
   "LaTeX_envs_menu_present": true,
   "autoclose": false,
   "autocomplete": true,
   "bibliofile": "biblio.bib",
   "cite_by": "apalike",
   "current_citInitial": 1,
   "eqLabelWithNumbers": true,
   "eqNumInitial": 1,
   "hotkeys": {
    "equation": "Ctrl-E",
    "itemize": "Ctrl-I"
   },
   "labels_anchors": false,
   "latex_user_defs": false,
   "report_style_numbering": false,
   "user_envs_cfg": false
  },
  "varInspector": {
   "cols": {
    "lenName": 16,
    "lenType": 16,
    "lenVar": 40
   },
   "kernels_config": {
    "python": {
     "delete_cmd_postfix": "",
     "delete_cmd_prefix": "del ",
     "library": "var_list.py",
     "varRefreshCmd": "print(var_dic_list())"
    },
    "r": {
     "delete_cmd_postfix": ") ",
     "delete_cmd_prefix": "rm(",
     "library": "var_list.r",
     "varRefreshCmd": "cat(var_dic_list()) "
    }
   },
   "types_to_exclude": [
    "module",
    "function",
    "builtin_function_or_method",
    "instance",
    "_Feature"
   ],
   "window_display": false
  }
 },
 "nbformat": 4,
 "nbformat_minor": 2
}
