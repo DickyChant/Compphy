{
 "cells": [
  {
   "cell_type": "markdown",
   "metadata": {},
   "source": [
    "# Define Class: vector and square matrix"
   ]
  },
  {
   "cell_type": "code",
   "execution_count": 1,
   "metadata": {},
   "outputs": [],
   "source": [
    "class vector:\n",
    "    N = 0\n",
    "    Vec = []\n",
    "\n",
    "    def __init__(self, vec=None):\n",
    "        if vec == None or vec == []:\n",
    "            self.N = 0\n",
    "            self.Vec = []\n",
    "        else:\n",
    "            self.Vec = [i for i in vec]\n",
    "            self.N = len(vec)\n",
    "\n",
    "    def print_vec(self):\n",
    "        print(self.Vec)\n",
    "    def print_vec_procession(self,p = 4):\n",
    "        print(\"(\",end='')\n",
    "        for i in range(self.N):\n",
    "            if(i==0):\n",
    "                print(\" %.*f\"%(p,self.Vec[i]),end='')\n",
    "            else:\n",
    "                print(\", %.*f\"%(p,self.Vec[i]),end='')\n",
    "        print(\" )\")"
   ]
  },
  {
   "cell_type": "code",
   "execution_count": 2,
   "metadata": {},
   "outputs": [],
   "source": [
    "class square:\n",
    "    N = 0\n",
    "    Squ = []\n",
    "\n",
    "    def __init__(self, n=0, squ=None):\n",
    "        if squ == None or squ == []:\n",
    "            self.N = 0\n",
    "            self.Squ = []\n",
    "        else:\n",
    "            self.N = n\n",
    "            self.Squ = [[j for j in i] for i in squ]\n",
    "\n",
    "    def print_squ(self):\n",
    "        for row in self.Squ:\n",
    "            print(row)\n",
    "\n",
    "    def transpose(self):\n",
    "        temp = [[self.Squ[j][i] for j in range(self.N)] for i in range(self.N)]\n",
    "        return square(self.N, temp)"
   ]
  },
  {
   "cell_type": "markdown",
   "metadata": {},
   "source": [
    "# Define function: matrix multiply matrix and matrix multiply vector"
   ]
  },
  {
   "cell_type": "code",
   "execution_count": 3,
   "metadata": {},
   "outputs": [],
   "source": [
    "def matmul(m1, m2):\n",
    "    if m1.N != m2.N:\n",
    "        print(\"Error\")\n",
    "        return -1\n",
    "    else:\n",
    "        tmp1 = []\n",
    "        for i in range(m1.N):\n",
    "            tmp2 = []\n",
    "            for j in range(m1.N):\n",
    "                tmp3 = 0\n",
    "                for k in range(m1.N):\n",
    "                    tmp3 += m1.Squ[i][k]*m2.Squ[k][j]\n",
    "                tmp2.append(tmp3)\n",
    "            tmp1.append(tmp2)\n",
    "        return square(m1.N, tmp1)"
   ]
  },
  {
   "cell_type": "code",
   "execution_count": 4,
   "metadata": {},
   "outputs": [],
   "source": [
    "def mvmul(mat, vec):\n",
    "    if mat.N != vec.N:\n",
    "        print(\"Error\")\n",
    "        return -1\n",
    "    else:\n",
    "        tmp1 = []\n",
    "        for i in range(mat.N):\n",
    "            tmp2 = 0\n",
    "            for j in range(mat.N):\n",
    "                tmp2 += mat.Squ[i][j]*vec.Vec[j]\n",
    "            tmp1.append(tmp2)\n",
    "        return vector(tmp1)"
   ]
  },
  {
   "cell_type": "markdown",
   "metadata": {},
   "source": [
    "# Hilbert Matrix Generator"
   ]
  },
  {
   "cell_type": "code",
   "execution_count": 5,
   "metadata": {},
   "outputs": [],
   "source": [
    "def Hilbert_mat(n):\n",
    "    mat = [[1/(i+j+1) for j in range(n)] for i in range(n)]\n",
    "    return square(n, mat)"
   ]
  },
  {
   "cell_type": "markdown",
   "metadata": {},
   "source": [
    "# GEM code"
   ]
  },
  {
   "cell_type": "code",
   "execution_count": 6,
   "metadata": {},
   "outputs": [],
   "source": [
    "def GEM(mat, vec=None):\n",
    "    if vec != None and mat.N != vec.N:\n",
    "        print(\"Error\")\n",
    "        return -1\n",
    "    if vec == None:\n",
    "        vec = vector([1 for i in range(mat.N)])\n",
    "    mat0 = square(mat.N, mat.Squ)\n",
    "    vec0 = vector(vec.Vec)\n",
    "    for i in range(mat0.N):\n",
    "\n",
    "        maxi = i\n",
    "        for j in range(mat0.N-i):\n",
    "            if abs(mat0.Squ[i+j][i]) > abs(mat0.Squ[maxi][i]):\n",
    "                maxi = j+i\n",
    "        if mat0.Squ[maxi][i] == 0:\n",
    "            return -1\n",
    "        temp = mat0.Squ[maxi]\n",
    "        mat0.Squ[maxi] = mat0.Squ[i]\n",
    "        mat0.Squ[i] = temp\n",
    "        temp = vec0.Vec[maxi]\n",
    "        vec0.Vec[maxi] = vec0.Vec[i]\n",
    "        vec0.Vec[i] = temp\n",
    "\n",
    "        temp = -1.0/mat0.Squ[i][i]\n",
    "        for j in range(mat.N-i-1):\n",
    "            l = temp*mat0.Squ[i+j+1][i]\n",
    "            for k in range(mat.N-i):\n",
    "                mat0.Squ[i+j+1][i+k] += l*mat0.Squ[i][i+k]\n",
    "            vec0.Vec[i+j+1] += l*vec0.Vec[i]\n",
    "\n",
    "    return mat0, vec0"
   ]
  },
  {
   "cell_type": "markdown",
   "metadata": {},
   "source": [
    "# Square root: using Newton method"
   ]
  },
  {
   "cell_type": "code",
   "execution_count": 7,
   "metadata": {},
   "outputs": [],
   "source": [
    "def sqr_newton(s, n=20):\n",
    "    x = s\n",
    "    for i in range(n):\n",
    "        x = x/2+s/2/x\n",
    "\n",
    "    return x"
   ]
  },
  {
   "cell_type": "markdown",
   "metadata": {},
   "source": [
    "# Cholesky code"
   ]
  },
  {
   "cell_type": "code",
   "execution_count": 8,
   "metadata": {},
   "outputs": [],
   "source": [
    "def Cholesky(mat):\n",
    "    temp = [[0 for i in range(mat.N)] for j in range(mat.N)]\n",
    "    for i in range(mat.N):\n",
    "        if i == 0:\n",
    "            temp[0][0] = sqr_newton(mat.Squ[0][0])\n",
    "            continue\n",
    "        for j in range(i):\n",
    "            temp[i][j] = mat.Squ[i][j]\n",
    "            for k in range(j):\n",
    "                temp[i][j] -= temp[i][k]*temp[j][k]\n",
    "            temp[i][j] /= temp[j][j]\n",
    "        temp[i][i] = mat.Squ[i][i]\n",
    "        for j in range(i):\n",
    "            temp[i][i] -= temp[i][j]**2\n",
    "        temp[i][i] = sqr_newton(temp[i][i])\n",
    "\n",
    "    return square(mat.N, temp)"
   ]
  },
  {
   "cell_type": "markdown",
   "metadata": {},
   "source": [
    "# upper&lower triangular matrix solver"
   ]
  },
  {
   "cell_type": "code",
   "execution_count": 9,
   "metadata": {},
   "outputs": [],
   "source": [
    "def upper_tri_solver(mat, vec=None):\n",
    "    if mat.N != vec.N and vec != None:\n",
    "        print(\"Error\")\n",
    "        return -1\n",
    "    if vec == None:\n",
    "        vec = vector([1 for i in range(mat.N)])\n",
    "\n",
    "    temp_vec = []\n",
    "    for i in range(mat.N):\n",
    "        if mat.Squ[i][i] == 0:\n",
    "            print(\"Cannot Solve!\")\n",
    "            return -1\n",
    "        temp = vec.Vec[mat.N-1-i]\n",
    "        for k in range(i):\n",
    "            temp -= mat.Squ[mat.N-1-i][mat.N-1-k]*temp_vec[k]\n",
    "        temp /= mat.Squ[mat.N-1-i][mat.N-1-i]\n",
    "        temp_vec.append(temp)\n",
    "    temp_vec.reverse()\n",
    "    return vector(temp_vec)"
   ]
  },
  {
   "cell_type": "code",
   "execution_count": 10,
   "metadata": {},
   "outputs": [],
   "source": [
    "def lower_tri_solver(mat, vec=None):\n",
    "    if mat.N != vec.N and vec != None:\n",
    "        print(\"Error\")\n",
    "        return -1\n",
    "    if vec == None:\n",
    "        vec = vector([1 for i in range(mat.N)])\n",
    "\n",
    "    temp_vec = []\n",
    "    for i in range(mat.N):\n",
    "        if mat.Squ[i][i] == 0:\n",
    "            print(\"Cannot Solve!\")\n",
    "            return -1\n",
    "        temp = vec.Vec[i]\n",
    "        for k in range(i):\n",
    "            temp -= mat.Squ[i][k]*temp_vec[k]\n",
    "        temp /= mat.Squ[i][i]\n",
    "        temp_vec.append(temp)\n",
    "    return vector(temp_vec)"
   ]
  },
  {
   "cell_type": "markdown",
   "metadata": {},
   "source": [
    "# Results"
   ]
  },
  {
   "cell_type": "code",
   "execution_count": 11,
   "metadata": {
    "scrolled": false
   },
   "outputs": [
    {
     "name": "stdout",
     "output_type": "stream",
     "text": [
      "------n=1------\n",
      "------GEM------\n",
      "( 1.0000 )\n",
      "------Cholesky------\n",
      "( 1.0000 )\n",
      "------n=2------\n",
      "------GEM------\n",
      "( -2.0000, 6.0000 )\n",
      "------Cholesky------\n",
      "( -2.0000, 6.0000 )\n",
      "------n=3------\n",
      "------GEM------\n",
      "( 3.0000, -24.0000, 30.0000 )\n",
      "------Cholesky------\n",
      "( 3.0000, -24.0000, 30.0000 )\n",
      "------n=4------\n",
      "------GEM------\n",
      "( -4.0000, 60.0000, -180.0000, 140.0000 )\n",
      "------Cholesky------\n",
      "( -4.0000, 60.0000, -180.0000, 140.0000 )\n",
      "------n=5------\n",
      "------GEM------\n",
      "( 5.0000, -120.0000, 630.0000, -1120.0000, 630.0000 )\n",
      "------Cholesky------\n",
      "( 5.0000, -120.0000, 630.0000, -1120.0000, 630.0000 )\n",
      "------n=6------\n",
      "------GEM------\n",
      "( -6.0000, 210.0000, -1680.0000, 5040.0000, -6300.0000, 2772.0000 )\n",
      "------Cholesky------\n",
      "( -6.0000, 210.0000, -1680.0000, 5040.0000, -6300.0000, 2772.0000 )\n",
      "------n=7------\n",
      "------GEM------\n",
      "( 7.0000, -336.0000, 3780.0000, -16800.0001, 34650.0001, -33264.0001, 12012.0000 )\n",
      "------Cholesky------\n",
      "( 7.0000, -336.0000, 3780.0000, -16800.0001, 34650.0001, -33264.0001, 12012.0000 )\n",
      "------n=8------\n",
      "------GEM------\n",
      "( -8.0000, 504.0000, -7559.9998, 46199.9991, -138599.9973, 216215.9960, -168167.9970, 51479.9991 )\n",
      "------Cholesky------\n",
      "( -8.0000, 504.0000, -7559.9998, 46199.9989, -138599.9969, 216215.9954, -168167.9966, 51479.9990 )\n",
      "------n=9------\n",
      "------GEM------\n",
      "( 8.9999, -719.9962, 13859.9351, -110879.5319, 450448.2691, -1009004.4428, 1261255.8924, -823677.5075, 218789.3817 )\n",
      "------Cholesky------\n",
      "( 8.9999, -719.9957, 13859.9269, -110879.4726, 450448.0491, -1009003.9891, 1261255.3671, -823677.1880, 218789.3023 )\n",
      "------n=10------\n",
      "------GEM------\n",
      "( -9.9980, 989.8301, -23756.3837, 240207.1395, -1261103.3278, 3783349.4733, -6726013.8839, 7000597.8401, -3937861.9782, 923701.2873 )\n",
      "------Cholesky------\n",
      "( -9.9938, 989.4539, -23748.1253, 240130.1994, -1260728.8024, 3782302.1150, -6724270.1513, 6998891.2685, -3936956.0905, 923500.1211 )\n"
     ]
    }
   ],
   "source": [
    "for i in range(10):\n",
    "    print(\"------n={}------\".format(i+1))\n",
    "\n",
    "    n = i+1\n",
    "    b = vector([1 for i in range(n)])\n",
    "    H = Hilbert_mat(n)\n",
    "\n",
    "    print(\"------GEM------\")\n",
    "\n",
    "    H_GEM, b_GEM = GEM(H, b)\n",
    "    x_GEM = upper_tri_solver(H_GEM,b_GEM)\n",
    "    x_GEM.print_vec_procession()\n",
    "    \n",
    "    print(\"------Cholesky------\")\n",
    "\n",
    "    U = Cholesky(H)\n",
    "    U_dag = U.transpose()\n",
    "    y = lower_tri_solver(U,b)\n",
    "    x_Cho = upper_tri_solver(U_dag,y)\n",
    "    x_Cho.print_vec_procession()"
   ]
  }
 ],
 "metadata": {
  "hide_input": false,
  "kernelspec": {
   "display_name": "Python 3",
   "language": "python",
   "name": "python3"
  },
  "language_info": {
   "codemirror_mode": {
    "name": "ipython",
    "version": 3
   },
   "file_extension": ".py",
   "mimetype": "text/x-python",
   "name": "python",
   "nbconvert_exporter": "python",
   "pygments_lexer": "ipython3",
   "version": "3.7.3"
  },
  "latex_envs": {
   "LaTeX_envs_menu_present": true,
   "autoclose": false,
   "autocomplete": true,
   "bibliofile": "biblio.bib",
   "cite_by": "apalike",
   "current_citInitial": 1,
   "eqLabelWithNumbers": true,
   "eqNumInitial": 1,
   "hotkeys": {
    "equation": "Ctrl-E",
    "itemize": "Ctrl-I"
   },
   "labels_anchors": false,
   "latex_user_defs": false,
   "report_style_numbering": false,
   "user_envs_cfg": false
  },
  "toc": {
   "base_numbering": 1,
   "nav_menu": {},
   "number_sections": true,
   "sideBar": true,
   "skip_h1_title": false,
   "title_cell": "Table of Contents",
   "title_sidebar": "Contents",
   "toc_cell": false,
   "toc_position": {},
   "toc_section_display": true,
   "toc_window_display": true
  },
  "varInspector": {
   "cols": {
    "lenName": 16,
    "lenType": 16,
    "lenVar": 40
   },
   "kernels_config": {
    "python": {
     "delete_cmd_postfix": "",
     "delete_cmd_prefix": "del ",
     "library": "var_list.py",
     "varRefreshCmd": "print(var_dic_list())"
    },
    "r": {
     "delete_cmd_postfix": ") ",
     "delete_cmd_prefix": "rm(",
     "library": "var_list.r",
     "varRefreshCmd": "cat(var_dic_list()) "
    }
   },
   "types_to_exclude": [
    "module",
    "function",
    "builtin_function_or_method",
    "instance",
    "_Feature"
   ],
   "window_display": false
  }
 },
 "nbformat": 4,
 "nbformat_minor": 2
}
