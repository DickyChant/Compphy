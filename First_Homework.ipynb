{
 "cells": [
  {
   "cell_type": "code",
   "execution_count": 9,
   "metadata": {},
   "outputs": [],
   "source": [
    "class vector:\n",
    "    N=0;\n",
    "    Vec=[];\n",
    "    def __init__(self,vec=None):\n",
    "        if vec==None or vec ==[]:\n",
    "            self.N=0\n",
    "            self.Vec=[]\n",
    "        else:\n",
    "            self.Vec=vec\n",
    "            self.N=len(vec)\n",
    "    def print_vec(self):\n",
    "        print(self.Vec)"
   ]
  },
  {
   "cell_type": "code",
   "execution_count": 10,
   "metadata": {},
   "outputs": [],
   "source": [
    "class square:\n",
    "    N=0;\n",
    "    Squ=[];\n",
    "    def __init__(self,n=0,squ=None):\n",
    "        if squ==None or squ ==[] :\n",
    "            self.N=0\n",
    "            self.Squ=[]\n",
    "        else:\n",
    "            self.N=n\n",
    "            self.Squ=squ\n",
    "    def print_squ(self):\n",
    "        for row in self.Squ:\n",
    "            print(row)"
   ]
  },
  {
   "cell_type": "code",
   "execution_count": 16,
   "metadata": {},
   "outputs": [],
   "source": [
    "def matmul(m1,m2):\n",
    "    if m1.N!=m2.N:\n",
    "        print(\"Error\")\n",
    "        return -1\n",
    "    else:\n",
    "        tmp1 = []\n",
    "        for i in range(m1.N):\n",
    "            tmp2 = []\n",
    "            for j in range(m1.N):\n",
    "                tmp3 = 0\n",
    "                for k in range(m1.N):\n",
    "                    tmp3+=m1.Squ[i][k]*m2.Squ[k][j]\n",
    "                tmp2.append(tmp3)\n",
    "            tmp1.append(tmp2)\n",
    "        return square(m1.N,tmp1) "
   ]
  },
  {
   "cell_type": "code",
   "execution_count": 22,
   "metadata": {},
   "outputs": [],
   "source": [
    "def mvmul(mat,vec):\n",
    "    if mat.N!=vec.N:\n",
    "        print(\"Error\")\n",
    "        return -1\n",
    "    else:\n",
    "        tmp1 = []\n",
    "        for i in range(mat.N):\n",
    "            tmp2 = 0\n",
    "            for j in range(mat.N):\n",
    "                tmp2 += mat.Squ[i][j]*vec.Vec[j]\n",
    "            tmp1.append(tmp2)\n",
    "        return vector(tmp1)"
   ]
  },
  {
   "cell_type": "code",
   "execution_count": 26,
   "metadata": {},
   "outputs": [],
   "source": [
    "def Hilbert_mat(n):\n",
    "    mat = [[1/(i+j+1) for j in range(n)] for i in range(n)]\n",
    "    return square(n,mat)"
   ]
  },
  {
   "cell_type": "code",
   "execution_count": 28,
   "metadata": {},
   "outputs": [],
   "source": [
    "def GEM(mat,vec):\n",
    "    if mat.N!=vec.N:\n",
    "        print(\"Error\")\n",
    "        return -1\n",
    "    for i in range(mat.N):\n",
    "        for j in range(mat.N-i):\n",
    "            "
   ]
  },
  {
   "cell_type": "code",
   "execution_count": null,
   "metadata": {},
   "outputs": [],
   "source": []
  }
 ],
 "metadata": {
  "kernelspec": {
   "display_name": "Python 3",
   "language": "python",
   "name": "python3"
  },
  "language_info": {
   "codemirror_mode": {
    "name": "ipython",
    "version": 3
   },
   "file_extension": ".py",
   "mimetype": "text/x-python",
   "name": "python",
   "nbconvert_exporter": "python",
   "pygments_lexer": "ipython3",
   "version": "3.7.3"
  }
 },
 "nbformat": 4,
 "nbformat_minor": 2
}
